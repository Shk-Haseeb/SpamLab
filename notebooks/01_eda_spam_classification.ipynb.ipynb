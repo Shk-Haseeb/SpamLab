{
 "cells": [
  {
   "cell_type": "markdown",
   "id": "f9c4128e-d717-455c-8d76-ed0548020c53",
   "metadata": {},
   "source": [
    "# 📊 EDA: Spam vs Ham Email Classification\n",
    "\n",
    "### 👨‍💻 Notebook Overview:\n",
    "In this notebook, I explore the SpamAssassin email dataset using Pandas and basic visualizations. \n",
    "The goal is to understand the structure and distribution of the data before we clean and model it."
   ]
  },
  {
   "cell_type": "markdown",
   "id": "4ea4e095-a0ab-4a55-b27e-d33122800116",
   "metadata": {},
   "source": [
    "### 🧪 What’s happening in this cell:\n",
    "- I import the necessary libraries for data analysis and visualization (`pandas`, `matplotlib`, `seaborn`)\n",
    "- I load the labeled email data (spam vs ham) from my cleaned data pipeline using a custom function: `load_spam_ham_data()`\n",
    "- I check the dataset shape and preview a few sample rows to confirm it loaded correctly"
   ]
  },
  {
   "cell_type": "code",
   "execution_count": 1,
   "id": "afb923b5-89be-4287-b1b8-7e6e5627c3be",
   "metadata": {},
   "outputs": [],
   "source": [
    "import pandas as pd\n",
    "import matplotlib.pyplot as plt\n",
    "import seaborn as sns\n",
    "import sys\n",
    "\n",
    "sys.path.append('../src')\n",
    "\n",
    "from data import load_spam_ham_data\n"
   ]
  },
  {
   "cell_type": "code",
   "execution_count": 2,
   "id": "7607c95d-1adc-4674-8fed-13ab11823ad6",
   "metadata": {},
   "outputs": [
    {
     "name": "stdout",
     "output_type": "stream",
     "text": [
      "Shape: (5801, 2)\n"
     ]
    },
    {
     "data": {
      "text/html": [
       "<div>\n",
       "<style scoped>\n",
       "    .dataframe tbody tr th:only-of-type {\n",
       "        vertical-align: middle;\n",
       "    }\n",
       "\n",
       "    .dataframe tbody tr th {\n",
       "        vertical-align: top;\n",
       "    }\n",
       "\n",
       "    .dataframe thead th {\n",
       "        text-align: right;\n",
       "    }\n",
       "</style>\n",
       "<table border=\"1\" class=\"dataframe\">\n",
       "  <thead>\n",
       "    <tr style=\"text-align: right;\">\n",
       "      <th></th>\n",
       "      <th>text</th>\n",
       "      <th>label</th>\n",
       "    </tr>\n",
       "  </thead>\n",
       "  <tbody>\n",
       "    <tr>\n",
       "      <th>0</th>\n",
       "      <td>Delivered-To: zzzz-spamtrap@sonic.spamtraps.ta...</td>\n",
       "      <td>spam</td>\n",
       "    </tr>\n",
       "    <tr>\n",
       "      <th>1</th>\n",
       "      <td>From zzzz@spamassassin.taint.org  Mon Sep  2 1...</td>\n",
       "      <td>spam</td>\n",
       "    </tr>\n",
       "    <tr>\n",
       "      <th>2</th>\n",
       "      <td>From yourhealth@hottmail.com  Fri Sep 20 11:41...</td>\n",
       "      <td>spam</td>\n",
       "    </tr>\n",
       "    <tr>\n",
       "      <th>3</th>\n",
       "      <td>From jennifer3530t76@usa.com  Mon Aug 26 15:14...</td>\n",
       "      <td>spam</td>\n",
       "    </tr>\n",
       "    <tr>\n",
       "      <th>4</th>\n",
       "      <td>From donaldbae@purplehotel.com  Wed Aug 28 11:...</td>\n",
       "      <td>spam</td>\n",
       "    </tr>\n",
       "  </tbody>\n",
       "</table>\n",
       "</div>"
      ],
      "text/plain": [
       "                                                text label\n",
       "0  Delivered-To: zzzz-spamtrap@sonic.spamtraps.ta...  spam\n",
       "1  From zzzz@spamassassin.taint.org  Mon Sep  2 1...  spam\n",
       "2  From yourhealth@hottmail.com  Fri Sep 20 11:41...  spam\n",
       "3  From jennifer3530t76@usa.com  Mon Aug 26 15:14...  spam\n",
       "4  From donaldbae@purplehotel.com  Wed Aug 28 11:...  spam"
      ]
     },
     "execution_count": 2,
     "metadata": {},
     "output_type": "execute_result"
    }
   ],
   "source": [
    "df = load_spam_ham_data(base_path='../data')\n",
    "\n",
    "print(f\"Shape: {df.shape}\")\n",
    "df['label'].value_counts()\n",
    "df.head()"
   ]
  },
  {
   "cell_type": "markdown",
   "id": "e458d67f-d90d-4f94-ada0-4659fe570685",
   "metadata": {},
   "source": [
    "### 🔍 Notes:\n",
    "- The dataset has **5801 total emails**\n",
    "- Labels are already assigned as `spam` or `ham`\n",
    "- Each row contains the raw text of the email (including headers for now)\n",
    "\n",
    "Next, I’ll inspect the class distribution and text lengths to see if any imbalances or patterns stand out."
   ]
  },
  {
   "cell_type": "markdown",
   "id": "5a7a2651-8fdf-413d-9b85-6a65aa2f784f",
   "metadata": {},
   "source": [
    "## Visualization of the Classes:\n",
    "\n",
    "\n",
    "### 🧮 Why visualize class distribution?\n",
    "\n",
    "Before modeling, it's important to see how balanced our dataset is between spam and ham.  \n",
    "Imbalanced datasets can bias the model toward the majority class."
   ]
  },
  {
   "cell_type": "code",
   "execution_count": 3,
   "id": "7095b855-e373-4dac-918e-d97d1bc506e5",
   "metadata": {},
   "outputs": [
    {
     "data": {
      "image/png": "[encoded data removed]",
      "text/plain": [
       "<Figure size 640x480 with 1 Axes>"
      ]
     },
     "metadata": {},
     "output_type": "display_data"
    }
   ],
   "source": [
    "sns.countplot(data=df, x='label')\n",
    "plt.title(\"Distribution of Spam vs Ham Emails\")\n",
    "plt.xlabel(\"Label\")\n",
    "plt.ylabel(\"Count\")\n",
    "plt.show()"
   ]
  },
  {
   "cell_type": "markdown",
   "id": "8b69b939-4e8a-44cc-9039-93f01f32e9ee",
   "metadata": {},
   "source": [
    "### 📈 What the above plot shows:\n",
    "\n",
    "- There are about **4000 ham emails** and **2000 spam emails**\n",
    "- So, **ham is 2x more common than spam**, which could affect model performance\n",
    "\n",
    "This kind of imbalance is common in real-world spam filters, and I'll keep it in mind when evaluating our model later."
   ]
  },
  {
   "cell_type": "markdown",
   "id": "13af9e37-35c2-4f62-b46f-42980d8c6f21",
   "metadata": {},
   "source": [
    "## 🧹 Cleaning: Remove Email Headers\n",
    "\n",
    "Most emails start with headers like “From”, “Subject”, and “Date” which are not useful for classifying spam vs ham.  \n",
    "To clean the text, I define a simple function that removes everything before the first empty line (`\\n\\n`), leaving only the body of the email.\n",
    "\n",
    "I also convert everything to lowercase to normalize the text."
   ]
  },
  {
   "cell_type": "code",
   "execution_count": 4,
   "id": "b85bf416-5742-495b-9e62-e32034476879",
   "metadata": {},
   "outputs": [
    {
     "data": {
      "text/plain": [
       "0    ------=_nextpart_000_00x9_70a11c1d.e1232j43\\nc...\n",
       "1    all our mailings are sent complying to the pro...\n",
       "2    need health insurance? \\n in addition to featu...\n",
       "3    <html><p align=center><font ptsize=\"14\" family...\n",
       "4    \\nðï\u0011à¡±\u001aá worldwide*\\ngreat restaurants, shop...\n",
       "Name: clean_text, dtype: object"
      ]
     },
     "execution_count": 4,
     "metadata": {},
     "output_type": "execute_result"
    }
   ],
   "source": [
    "def strip_email_headers(text):\n",
    "    \"\"\"Remove headers and keep the body only.\"\"\"\n",
    "    return text.split(\"\\n\\n\", 1)[-1]\n",
    "\n",
    "df['clean_text'] = df['text'].apply(strip_email_headers).str.lower()\n",
    "df['clean_text'].head()"
   ]
  },
  {
   "cell_type": "code",
   "execution_count": null,
   "id": "93ce44fe-9a6d-4c22-a688-c358a70a2d90",
   "metadata": {},
   "outputs": [],
   "source": []
  },
  {
   "cell_type": "markdown",
   "id": "78c89d53-5b1a-4868-9dc8-49af581821cd",
   "metadata": {},
   "source": [
    "\n",
    "\n",
    "## 📏 Explore Email Lengths\n",
    "\n",
    "### 🤔 Why look at text length?\n",
    "\n",
    "Understanding the length of emails helps us learn whether spam and ham messages tend to be short, long, or similar.  \n",
    "This can hint at useful features for classification (e.g., are spam messages typically shorter or more formulaic?)."
   ]
  },
  {
   "cell_type": "code",
   "execution_count": 5,
   "id": "c2807fc9-09b7-4331-9bb3-97eeedb5f765",
   "metadata": {},
   "outputs": [
    {
     "data": {
      "image/png": "[encoded data removed]",
      "text/plain": [
       "<Figure size 640x480 with 1 Axes>"
      ]
     },
     "metadata": {},
     "output_type": "display_data"
    }
   ],
   "source": [
    "df['text_length'] = df['clean_text'].apply(len)\n",
    "\n",
    "sns.histplot(data=df, x='text_length', hue='label', bins=50, kde=True)\n",
    "plt.title(\"Distribution of Email Lengths by Label\")\n",
    "plt.xlabel(\"Text Length (chars)\")\n",
    "plt.ylabel(\"Frequency\")\n",
    "plt.show()"
   ]
  },
  {
   "cell_type": "markdown",
   "id": "66b8f14a-6d02-4e97-a1d4-90d43afd7091",
   "metadata": {},
   "source": [
    "### 📈 What this plot shows:\n",
    "\n",
    "- The histogram compares the distribution of text lengths in characters.\n",
    "- Most emails, both spam and ham, are clustered under ~5000 characters.\n",
    "- Ham emails show a wider spread, meaning they tend to be longer and more varied.\n",
    "- Spam emails are more tightly packed — possibly due to templated or repeated messaging."
   ]
  },
  {
   "cell_type": "markdown",
   "id": "82f9dd56-17c1-417d-bf4b-7a5e24113aee",
   "metadata": {},
   "source": [
    "## 🔤 Preview Top Words in Spam vs Ham\n",
    "\n",
    "Before diving into full NLP preprocessing, I preview the most frequent words in each category using Python’s `Counter` below.\n",
    "\n",
    "This will help us:\n",
    "- Spot common spam keywords (like “free”, “win”, “click”)\n",
    "- Compare typical vocabulary across classes\n",
    "- Get a feel for the raw text before stopwords or cleaning"
   ]
  },
  {
   "cell_type": "code",
   "execution_count": 6,
   "id": "bd739516-eaf9-4f0d-97af-f06dc4f6ea72",
   "metadata": {},
   "outputs": [
    {
     "name": "stdout",
     "output_type": "stream",
     "text": [
      "Top spam words: [('the', 19827), ('to', 18351), ('and', 13664), ('of', 12041), ('you', 11287), ('a', 9559), ('=', 8332), ('your', 8046), ('for', 7758), ('<td', 7478)]\n",
      "Top ham words: [('the', 37453), ('>', 30611), ('to', 21848), ('a', 17676), ('of', 16954), ('and', 16542), ('in', 11203), ('is', 10895), ('that', 9585), ('i', 9371)]\n"
     ]
    }
   ],
   "source": [
    "from collections import Counter\n",
    "\n",
    "def get_top_words(texts, n=20):\n",
    "    words = ' '.join(texts).split()\n",
    "    return Counter(words).most_common(n)\n",
    "\n",
    "spam_top_words = get_top_words(df[df['label'] == 'spam']['clean_text'])\n",
    "ham_top_words = get_top_words(df[df['label'] == 'ham']['clean_text'])\n",
    "\n",
    "print(\"Top spam words:\", spam_top_words[:10])\n",
    "print(\"Top ham words:\", ham_top_words[:10])"
   ]
  },
  {
   "cell_type": "markdown",
   "id": "1473e12c-8d58-46ae-b007-06b509f18694",
   "metadata": {},
   "source": [
    "## Wrap-Up\n",
    "\n",
    "#### 📌 Summary\n",
    "\n",
    "- Dataset contains 5800+ emails (2000 spam, 3800 ham)\n",
    "- Spam and ham distributions are imbalanced\n",
    "- Spam emails often include short, repetitive patterns\n",
    "- We'll need to clean text further before modeling:\n",
    "  - Remove punctuation\n",
    "  - Remove stopwords\n",
    "  - Tokenize and vectorize\n",
    "\n",
    "Next up: Text preprocessing with NLP tools like `nltk` or `re`.\n",
    "\n",
    "The analysis with continue with another notebook titled: 02_text_preprocessing"
   ]
  }
 ],
 "metadata": {
  "kernelspec": {
   "display_name": "Python (spamlab)",
   "language": "python",
   "name": "spamlab"
  },
  "language_info": {
   "codemirror_mode": {
    "name": "ipython",
    "version": 3
   },
   "file_extension": ".py",
   "mimetype": "text/x-python",
   "name": "python",
   "nbconvert_exporter": "python",
   "pygments_lexer": "ipython3",
   "version": "3.12.3"
  }
 },
 "nbformat": 4,
 "nbformat_minor": 5
}
